{
 "cells": [
  {
   "cell_type": "markdown",
   "metadata": {},
   "source": [
    "Ring, Field and Series is more of a design pattern then it is a package. I use this pattern for all of my time series work. These examples are trivial and there is very little code in the three modules. So take a look at how they works:\n",
    "\n",
    "https://github.com/leonhardbrenner/buckysoap/blob/master/src/buckysoap\n",
    "\n",
    "    ring.py - this is the fixer or root\n",
    "    field.py - let's us factor our code into smaller components\n",
    "    series.py - works with ring to give use indexing of time\n",
    "    \n",
    "In the example below we make up a timeline(dates). You should already understand properties(x, y, z) but what is interesting here is:\n",
    "\n",
    "    b = property(B) #look at Field.__getattr__\n",
    "    \n",
    "This let's us access self.date which is actually a property of an instance of A. Actually, all properties of A are available to B including horizons. A.series(horizon=(-1, 21)) returns a Series object which is bound to and will create instances of A for each of the dates in the timeseries. We can index the series. We can also index each ring to access a ring relative to the current ring.\n",
    "\n",
    "If this sounds complicated then just look at the examples:"
   ]
  },
  {
   "cell_type": "code",
   "execution_count": 38,
   "metadata": {
    "collapsed": false
   },
   "outputs": [
    {
     "name": "stdout",
     "output_type": "stream",
     "text": [
      "(x[20100107] + y[20100107])\n",
      "20100101 x[20100101] y[20100101] (x[20100101] + y[20100101])\n",
      "20100102 x[20100102] y[20100102] (x[20100102] + y[20100102])\n",
      "20100103 x[20100103] y[20100103] (x[20100103] + y[20100103])\n",
      "20100104 x[20100104] y[20100104] (x[20100104] + y[20100104])\n",
      "20100105 x[20100105] y[20100105] (x[20100105] + y[20100105])\n",
      "20100106 x[20100106] y[20100106] (x[20100106] + y[20100106])\n",
      "20100107 x[20100107] y[20100107] (x[20100107] + y[20100107])\n",
      "20100108 x[20100108] y[20100108] (x[20100108] + y[20100108])\n",
      "20100109 x[20100109] y[20100109] (x[20100109] + y[20100109])\n",
      "20100110 x[20100110] y[20100110] (x[20100110] + y[20100110])\n"
     ]
    }
   ],
   "source": [
    "import buckysoap as bs\n",
    "\n",
    "class A(bs.Ring):\n",
    "\n",
    "    dates = [str(x) for x in bs.arange(10) + 20100101]\n",
    "\n",
    "    @property\n",
    "    def x(self):\n",
    "        return 'x[%s]' % self.date\n",
    "    \n",
    "    class B(bs.Field):\n",
    "\n",
    "        @property\n",
    "        def y(self):\n",
    "            return 'y[%s]' % self.date\n",
    "            \n",
    "        @property\n",
    "        def z(self):\n",
    "            return '(%s + %s)' % (self.x, self.y)\n",
    "        \n",
    "    b = property(B)\n",
    "        \n",
    "series = A.series(horizons=(-1, 21))\n",
    "print series['20100107'].b.z\n",
    "for o in series:\n",
    "    print o.date, o.x, o.b.y, o.b.z"
   ]
  },
  {
   "cell_type": "markdown",
   "metadata": {},
   "source": [
    "In this example we are going to replace property y in class B. This is why I use the convention uppercase for the class and lowercase for the property. Here the difference in the code is trivial y becomes y`."
   ]
  },
  {
   "cell_type": "code",
   "execution_count": 39,
   "metadata": {
    "collapsed": false
   },
   "outputs": [
    {
     "name": "stdout",
     "output_type": "stream",
     "text": [
      "(x[20100108] + y[20100108]`)\n",
      "20100101 x[20100101] y[20100101]` (x[20100101] + y[20100101]`)\n",
      "20100102 x[20100102] y[20100102]` (x[20100102] + y[20100102]`)\n",
      "20100103 x[20100103] y[20100103]` (x[20100103] + y[20100103]`)\n",
      "20100104 x[20100104] y[20100104]` (x[20100104] + y[20100104]`)\n",
      "20100105 x[20100105] y[20100105]` (x[20100105] + y[20100105]`)\n",
      "20100106 x[20100106] y[20100106]` (x[20100106] + y[20100106]`)\n",
      "20100107 x[20100107] y[20100107]` (x[20100107] + y[20100107]`)\n",
      "20100108 x[20100108] y[20100108]` (x[20100108] + y[20100108]`)\n",
      "20100109 x[20100109] y[20100109]` (x[20100109] + y[20100109]`)\n",
      "20100110 x[20100110] y[20100110]` (x[20100110] + y[20100110]`)\n"
     ]
    }
   ],
   "source": [
    "class A(A):\n",
    "    \n",
    "    class B(A.B):\n",
    "\n",
    "        @property\n",
    "        def y(self):\n",
    "            return 'y[%s]`' % self.date\n",
    "    \n",
    "    b = property(B)\n",
    "\n",
    "series = A.series(horizons=(-1, 43))\n",
    "print series['20100108'].b.z\n",
    "for o in series:\n",
    "    print o.date, o.x, o.b.y, o.b.z"
   ]
  },
  {
   "cell_type": "markdown",
   "metadata": {},
   "source": [
    "Now we are going to use the horizons. We create a method change which takes a callable(func). As we iterate through the series we call change passing the lambda which change will use to curry the Ring(s) found at the horizons of the current Ring. Typically, I use this with Atom and Element allowing me to calculate the change in the cross section."
   ]
  },
  {
   "cell_type": "code",
   "execution_count": 49,
   "metadata": {
    "collapsed": false
   },
   "outputs": [
    {
     "name": "stdout",
     "output_type": "stream",
     "text": [
      " (20100200 + y[20100108]`)\n",
      "20100101 -0.000482582262862\n",
      "20100102 1.49252981307e-05\n",
      "20100103 1.4925297398e-05\n",
      "20100104 1.4925296643e-05\n",
      "20100105 1.49252959103e-05\n",
      "20100106 1.49252951553e-05\n",
      "20100107 1.49252944226e-05\n",
      "20100108 1.49252936898e-05\n",
      "20100109 1.49252929349e-05\n",
      "20100110 1.49252922022e-05\n",
      "20100111 1.49252914472e-05\n",
      "20100112 1.49252907145e-05\n",
      "20100113 1.49252899595e-05\n",
      "20100114 1.49252892268e-05\n",
      "20100115 1.4925288494e-05\n",
      "20100116 1.49252877391e-05\n",
      "20100117 1.49252870063e-05\n",
      "20100118 1.49252862514e-05\n",
      "20100119 1.49252855186e-05\n",
      "20100120 1.49252847637e-05\n",
      "20100121 1.49252840309e-05\n",
      "20100122 1.4925283276e-05\n",
      "20100123 1.49252825432e-05\n",
      "20100124 1.49252818105e-05\n",
      "20100125 1.49252810555e-05\n",
      "20100126 1.49252803228e-05\n",
      "20100127 1.49252795678e-05\n",
      "20100128 1.49252788351e-05\n",
      "20100129 1.49252780801e-05\n",
      "20100130 1.49252773474e-05\n",
      "20100131 1.49252765924e-05\n",
      "20100132 1.49252758597e-05\n",
      "20100133 1.49252751269e-05\n",
      "20100134 1.4925274372e-05\n",
      "20100135 1.49252736392e-05\n",
      "20100136 1.49252728843e-05\n",
      "20100137 1.49252721515e-05\n",
      "20100138 1.49252713966e-05\n",
      "20100139 1.49252706638e-05\n",
      "20100140 1.49252699089e-05\n",
      "20100141 1.49252691761e-05\n",
      "20100142 1.49252684434e-05\n",
      "20100143 1.49252676884e-05\n",
      "20100144 1.49252669557e-05\n",
      "20100145 1.49252662007e-05\n",
      "20100146 1.4925265468e-05\n",
      "20100147 1.4925264713e-05\n",
      "20100148 1.49252639803e-05\n",
      "20100149 1.49252632475e-05\n",
      "20100150 1.49252624926e-05\n",
      "20100151 1.49252617598e-05\n",
      "20100152 1.49252610049e-05\n"
     ]
    }
   ],
   "source": [
    "class A(A):\n",
    "    \n",
    "    dates = [str(x) for x in bs.arange(100) + 20100101]\n",
    "\n",
    "    class B(A.B):\n",
    "\n",
    "        def change(self, func):\n",
    "            ring = self.ring\n",
    "            horizons = ring.horizons\n",
    "            values = [func(ring[x]) for x in horizons]\n",
    "            return ((values[1] / values[0]) - 1) * 100\n",
    "    \n",
    "    b = property(B)\n",
    "\n",
    "series = A.series(horizons=(-1, 2))\n",
    "print series['20100108'].b.z\n",
    "for o in series:\n",
    "    if o.date < '20100153':\n",
    "        print o.date, o.b.change(lambda x: float(x.date))"
   ]
  },
  {
   "cell_type": "markdown",
   "metadata": {},
   "source": [
    "I will leave the rest to your imagination but I like that Python makes this so easy. Thank you Guido!"
   ]
  }
 ],
 "metadata": {
  "kernelspec": {
   "display_name": "Python 2",
   "language": "python",
   "name": "python2"
  },
  "language_info": {
   "codemirror_mode": {
    "name": "ipython",
    "version": 2
   },
   "file_extension": ".py",
   "mimetype": "text/x-python",
   "name": "python",
   "nbconvert_exporter": "python",
   "pygments_lexer": "ipython2",
   "version": "2.7.6"
  }
 },
 "nbformat": 4,
 "nbformat_minor": 0
}
