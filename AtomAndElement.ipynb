{
 "metadata": {
  "name": "AtomAndElement"
 },
 "nbformat": 3,
 "nbformat_minor": 0,
 "worksheets": [
  {
   "cells": [
    {
     "cell_type": "heading",
     "level": 3,
     "metadata": {},
     "source": [
      "Meet the Atom."
     ]
    },
    {
     "cell_type": "markdown",
     "metadata": {},
     "source": [
      "First let's create a few and prove that they are Atoms."
     ]
    },
    {
     "cell_type": "code",
     "collapsed": false,
     "input": [
      "import buckysoap as bs\n",
      "print bs.zeros(10, int)\n",
      "print bs.ones(10, int)\n",
      "print bs.arange(10)\n",
      "print type(bs.zeros(10, int))"
     ],
     "language": "python",
     "metadata": {},
     "outputs": [
      {
       "output_type": "stream",
       "stream": "stdout",
       "text": [
        "[0, 0, 0, 0, 0, 0, 0, 0, 0, 0]\n",
        "[1, 1, 1, 1, 1, 1, 1, 1, 1, 1]\n",
        "[0, 1, 2, 3, 4, 5, 6, 7, 8, 9]\n",
        "<class 'buckysoap.atom.Atom'>\n"
       ]
      }
     ],
     "prompt_number": 1
    },
    {
     "cell_type": "markdown",
     "metadata": {},
     "source": [
      "The previous Atoms seem a lot like np.ndarray. This is because Atom just extends np.ndarray. Let's look at what functionality Atom adds to np.ndarray."
     ]
    },
    {
     "cell_type": "code",
     "collapsed": false,
     "input": [
      "x = bs.Atom.fromlist([[0, 1, 2, None, 4], None, [], [5, 6]])\n",
      "print x\n",
      "print x.asarray() #This np.ndarray portion of the data\n",
      "print x.mask      #This exists on all Atoms to signify None\n",
      "print x.bincounts #This represents the bincounts on each axis of our Atom"
     ],
     "language": "python",
     "metadata": {},
     "outputs": [
      {
       "output_type": "stream",
       "stream": "stdout",
       "text": [
        "[[0, 1, 2, None, 4], None, [], [5, 6]]\n",
        "[0 1 2 0 4 5 6]\n",
        "[ True  True  True False  True  True  True]\n",
        "[Atom([5, None, 0, 2])]\n"
       ]
      }
     ],
     "prompt_number": 2
    },
    {
     "cell_type": "markdown",
     "metadata": {},
     "source": [
      "The Atom's depth is refered to as cardinality. This Atom has a cardinality of 3, for the previous it is 2 and for bs.zeros(10) it is 1."
     ]
    },
    {
     "cell_type": "code",
     "collapsed": false,
     "input": [
      "y = bs.Atom.fromlist([[[0, 1, 2, None, 4], None, [5, 6]], [[7, 8, 9, 4], [None, 10, 11]]])\n",
      "print y\n",
      "print y.asarray()\n",
      "print y.mask\n",
      "print y.bincounts\n",
      "print bs.zeros(10).cardinality\n",
      "print x.cardinality\n",
      "print y.cardinality\n",
      "print x.counts\n",
      "print y.counts"
     ],
     "language": "python",
     "metadata": {},
     "outputs": [
      {
       "output_type": "stream",
       "stream": "stdout",
       "text": [
        "[[[0, 1, 2, None, 4], None, [5, 6]], [[7, 8, 9, 4], [None, 10, 11]]]\n",
        "[ 0  1  2  0  4  5  6  7  8  9  4  0 10 11]\n",
        "[ True  True  True False  True  True  True  True  True  True  True False\n",
        "  True  True]\n",
        "[Atom([5, None, 2, 4, 3]), Atom([3, 2])]\n",
        "1\n",
        "2\n",
        "3\n",
        "[5, None, 0, 2]\n",
        "[[5, None, 2], [4, 3]]\n"
       ]
      }
     ],
     "prompt_number": 3
    },
    {
     "cell_type": "markdown",
     "metadata": {},
     "source": [
      "Atoms support all binary operators."
     ]
    },
    {
     "cell_type": "code",
     "collapsed": false,
     "input": [
      "print x * 2\n",
      "print x + 2\n",
      "print y - 2\n",
      "print y / 2"
     ],
     "language": "python",
     "metadata": {},
     "outputs": [
      {
       "output_type": "stream",
       "stream": "stdout",
       "text": [
        "[[0, 2, 4, None, 8], None, [], [10, 12]]\n",
        "[[2, 3, 4, None, 6], None, [], [7, 8]]\n",
        "[[[-2, -1, 0, None, 2], None, [3, 4]], [[5, 6, 7, 2], [None, 8, 9]]]\n",
        "[[[0.0, 0.5, 1.0, None, 2.0], None, [2.5, 3.0]], [[3.5, 4.0, 4.5, 2.0], [None, 5.0, 5.5]]]\n"
       ]
      }
     ],
     "prompt_number": 4
    },
    {
     "cell_type": "markdown",
     "metadata": {},
     "source": [
      "Atoms support methods like sum, average, stddev, tstat, ... The result of the functions always has a cardinality one less the that of it's source."
     ]
    },
    {
     "cell_type": "code",
     "collapsed": false,
     "input": [
      "print x\n",
      "print x.sum()\n",
      "print x.sum().sum()\n",
      "print y\n",
      "print y.sum()\n",
      "print y.sum().sum()\n",
      "print y.sum().sum().sum()\n",
      "print y.average()"
     ],
     "language": "python",
     "metadata": {},
     "outputs": [
      {
       "output_type": "stream",
       "stream": "stdout",
       "text": [
        "[[0, 1, 2, None, 4], None, [], [5, 6]]\n",
        "[7, None, 0, 11]\n",
        "18\n",
        "[[[0, 1, 2, None, 4], None, [5, 6]], [[7, 8, 9, 4], [None, 10, 11]]]\n",
        "[[7, None, 11], [28, 21]]\n",
        "[18, 49]\n",
        "67\n",
        "[[1.75, None, 5.5], [7.0, 10.5]]\n"
       ]
      }
     ],
     "prompt_number": 5
    },
    {
     "cell_type": "code",
     "collapsed": false,
     "input": [
      "print y.vstack(y)"
     ],
     "language": "python",
     "metadata": {},
     "outputs": [
      {
       "output_type": "stream",
       "stream": "stdout",
       "text": [
        "[[[0, 1, 2, None, 4], None, [5, 6]], [[7, 8, 9, 4], [None, 10, 11]], [[0, 1, 2, None, 4], None, [5, 6]], [[7, 8, 9, 4], [None, 10, 11]]]\n"
       ]
      }
     ],
     "prompt_number": 6
    },
    {
     "cell_type": "markdown",
     "metadata": {},
     "source": [
      "Take note of what is happening here it is going to be instrumental to how Element.group works. Here z2.cardinality => 2 and y.cardinality => 3 therefore z2[y].cardinality => z2.cardinality + y.cardinality - 1 => 4. "
     ]
    },
    {
     "cell_type": "code",
     "collapsed": false,
     "input": [
      "z = bs.arange(12) + 100\n",
      "print 'z =', z\n",
      "print\n",
      "print 'y =', y\n",
      "print\n",
      "print 'z[y] =', z[y]\n",
      "print\n",
      "z2 = bs.arange(78)\n",
      "z2.bincounts.append((bs.arange(12) + 1))\n",
      "print 'z2 =', z2\n",
      "print\n",
      "print 'z2[y] =', z2[y]\n",
      "print z2.cardinality, y.cardinality, z2[y].cardinality"
     ],
     "language": "python",
     "metadata": {},
     "outputs": [
      {
       "output_type": "stream",
       "stream": "stdout",
       "text": [
        "z = [100, 101, 102, 103, 104, 105, 106, 107, 108, 109, 110, 111]\n",
        "\n",
        "y = [[[0, 1, 2, None, 4], None, [5, 6]], [[7, 8, 9, 4], [None, 10, 11]]]\n",
        "\n",
        "z[y] = [[[100, 101, 102, None, 104], None, [105, 106]], [[107, 108, 109, 104], [None, 110, 111]]]\n",
        "\n",
        "z2 = [[0], [1, 2], [3, 4, 5], [6, 7, 8, 9], [10, 11, 12, 13, 14], [15, 16, 17, 18, 19, 20], [21, 22, 23, 24, 25, 26, 27], [28, 29, 30, 31, 32, 33, 34, 35], [36, 37, 38, 39, 40, 41, 42, 43, 44], [45, 46, 47, 48, 49, 50, 51, 52, 53, 54], [55, 56, 57, 58, 59, 60, 61, 62, 63, 64, 65], [66, 67, 68, 69, 70, 71, 72, 73, 74, 75, 76, 77]]\n",
        "\n",
        "z2[y] = [[[[0], [1, 2], [3, 4, 5], None, [10, 11, 12, 13, 14]], None, [[15, 16, 17, 18, 19, 20], [21, 22, 23, 24, 25, 26, 27]]], [[[28, 29, 30, 31, 32, 33, 34, 35], [36, 37, 38, 39, 40, 41, 42, 43, 44], [45, 46, 47, 48, 49, 50, 51, 52, 53, 54], [10, 11, 12, 13, 14]], [None, [55, 56, 57, 58, 59, 60, 61, 62, 63, 64, 65], [66, 67, 68, 69, 70, 71, 72, 73, 74, 75, 76, 77]]]]\n",
        "2 3 4\n"
       ]
      }
     ],
     "prompt_number": 7
    },
    {
     "cell_type": "heading",
     "level": 3,
     "metadata": {},
     "source": [
      "Combining Atoms to form an Element"
     ]
    },
    {
     "cell_type": "markdown",
     "metadata": {},
     "source": []
    },
    {
     "cell_type": "code",
     "collapsed": false,
     "input": [
      "e1 = bs.Element(name='Sample')(\n",
      "    range = bs.arange(10),\n",
      "    zero = bs.zeros(10, int),\n",
      "    one = bs.ones(10, int))\n",
      "e1.display()"
     ],
     "language": "python",
     "metadata": {},
     "outputs": [
      {
       "output_type": "stream",
       "stream": "stdout",
       "text": [
        "   zero  range  one\n",
        "0     0      0    1\n",
        "1     0      1    1\n",
        "2     0      2    1\n",
        "3     0      3    1\n",
        "4     0      4    1\n",
        "5     0      5    1\n",
        "6     0      6    1\n",
        "7     0      7    1\n",
        "8     0      8    1\n",
        "9     0      9    1\n"
       ]
      },
      {
       "output_type": "pyout",
       "prompt_number": 5,
       "text": [
        "<buckysoap.element.Element at 0x3805250>"
       ]
      }
     ],
     "prompt_number": 5
    },
    {
     "cell_type": "markdown",
     "metadata": {},
     "source": []
    },
    {
     "cell_type": "code",
     "collapsed": false,
     "input": [
      "e2 = e1(\n",
      "    group_id = lambda x: (x.range % 3) * 2\n",
      ")\n",
      "e2.display()"
     ],
     "language": "python",
     "metadata": {},
     "outputs": [
      {
       "output_type": "stream",
       "stream": "stdout",
       "text": [
        "Sample:\n",
        "\n",
        "#<Frame shape='10,4'/>\n",
        "zero range one group_id\n",
        "   0     0   1        0\n",
        "   0     1   1        2\n",
        "   0     2   1        4\n",
        "   0     3   1        0\n",
        "   0     4   1        2\n",
        "   0     5   1        4\n",
        "   0     6   1        0\n",
        "   0     7   1        2\n",
        "   0     8   1        4\n",
        "   0     9   1        0\n",
        "\n",
        "10 rows\n"
       ]
      },
      {
       "output_type": "pyout",
       "prompt_number": 9,
       "text": [
        "<util.buckysoap.element.Element at 0x3be8c50>"
       ]
      }
     ],
     "prompt_number": 9
    },
    {
     "cell_type": "markdown",
     "metadata": {},
     "source": []
    },
    {
     "cell_type": "code",
     "collapsed": false,
     "input": [
      "e3 = e2.group('group_id')\n",
      "e3.display()"
     ],
     "language": "python",
     "metadata": {},
     "outputs": [
      {
       "output_type": "stream",
       "stream": "stdout",
       "text": [
        "Sample[0]\n",
        "    zero=[0, 0, 0, 0]\n",
        "    range=[0, 3, 6, 9]\n",
        "    one=[1, 1, 1, 1]\n",
        "    group_id=0\n",
        "Sample[1]\n",
        "    zero=[0, 0, 0]\n",
        "    range=[1, 4, 7]\n",
        "    one=[1, 1, 1]\n",
        "    group_id=2\n",
        "Sample[2]\n",
        "    zero=[0, 0, 0]\n",
        "    range=[2, 5, 8]\n",
        "    one=[1, 1, 1]\n",
        "    group_id=4\n"
       ]
      },
      {
       "output_type": "pyout",
       "prompt_number": 10,
       "text": [
        "<util.buckysoap.element.Element at 0x3be8fd0>"
       ]
      }
     ],
     "prompt_number": 10
    },
    {
     "cell_type": "markdown",
     "metadata": {},
     "source": []
    },
    {
     "cell_type": "code",
     "collapsed": false,
     "input": [
      "e4 = e3(\n",
      "    range_sum = lambda x: x.range.sum(),\n",
      "    zero_sum = lambda x: x.zero.sum(),\n",
      "    one_sum = lambda x: x.one.sum())\n",
      "e4.display()\n",
      "index = e3.__source__.__index__\n",
      "print index\n",
      "a = getattr(e3.__source__.__source__, 'range')\n",
      "print a\n",
      "print (a+100)[index]"
     ],
     "language": "python",
     "metadata": {},
     "outputs": [
      {
       "output_type": "stream",
       "stream": "stdout",
       "text": [
        "Sample[0]\n",
        "    zero=[0, 0, 0, 0]\n",
        "    range=[0, 3, 6, 9]\n",
        "    one=[1, 1, 1, 1]\n",
        "    group_id=0\n",
        "    range_sum=18\n",
        "    one_sum=4\n",
        "    zero_sum=0\n",
        "Sample[1]\n",
        "    zero=[0, 0, 0]\n",
        "    range=[1, 4, 7]\n",
        "    one=[1, 1, 1]\n",
        "    group_id=2\n",
        "    range_sum=12\n",
        "    one_sum=3\n",
        "    zero_sum=0\n",
        "Sample[2]\n",
        "    zero=[0, 0, 0]\n",
        "    range=[2, 5, 8]\n",
        "    one=[1, 1, 1]\n",
        "    group_id=4\n",
        "    range_sum=15\n",
        "    one_sum=3\n",
        "    zero_sum=0\n",
        "[[0, 3, 6, 9], [1, 4, 7], [2, 5, 8]]\n",
        "[0, 1, 2, 3, 4, 5, 6, 7, 8, 9]\n",
        "[[100, 103, 106, 109], [101, 104, 107], [102, 105, 108]]\n"
       ]
      }
     ],
     "prompt_number": 11
    },
    {
     "cell_type": "markdown",
     "metadata": {},
     "source": []
    },
    {
     "cell_type": "code",
     "collapsed": false,
     "input": [
      "e4 = e4('group_id,range,range_sum,zero,zero_sum,one,one_sum')\n",
      "e4.display()\n",
      "e3.display()\n",
      "e2.display()\n",
      "e1.display()"
     ],
     "language": "python",
     "metadata": {},
     "outputs": [
      {
       "output_type": "stream",
       "stream": "stdout",
       "text": [
        "Sample[0]\n",
        "    group_id=0\n",
        "    range=[0, 3, 6, 9]\n",
        "    range_sum=18\n",
        "    zero=[0, 0, 0, 0]\n",
        "    zero_sum=0\n",
        "    one=[1, 1, 1, 1]\n",
        "    one_sum=4\n",
        "Sample[1]\n",
        "    group_id=2\n",
        "    range=[1, 4, 7]\n",
        "    range_sum=12\n",
        "    zero=[0, 0, 0]\n",
        "    zero_sum=0\n",
        "    one=[1, 1, 1]\n",
        "    one_sum=3\n",
        "Sample[2]\n",
        "    group_id=4\n",
        "    range=[2, 5, 8]\n",
        "    range_sum=15\n",
        "    zero=[0, 0, 0]\n",
        "    zero_sum=0\n",
        "    one=[1, 1, 1]\n",
        "    one_sum=3\n",
        "Sample[0]\n",
        "    zero=[0, 0, 0, 0]\n",
        "    range=[0, 3, 6, 9]\n",
        "    one=[1, 1, 1, 1]\n",
        "    group_id=0\n",
        "Sample[1]\n",
        "    zero=[0, 0, 0]\n",
        "    range=[1, 4, 7]\n",
        "    one=[1, 1, 1]\n",
        "    group_id=2\n",
        "Sample[2]\n",
        "    zero=[0, 0, 0]\n",
        "    range=[2, 5, 8]\n",
        "    one=[1, 1, 1]\n",
        "    group_id=4\n",
        "Sample:\n",
        "\n",
        "#<Frame shape='10,4'/>\n",
        "zero range one group_id\n",
        "   0     0   1        0\n",
        "   0     1   1        2\n",
        "   0     2   1        4\n",
        "   0     3   1        0\n",
        "   0     4   1        2\n",
        "   0     5   1        4\n",
        "   0     6   1        0\n",
        "   0     7   1        2\n",
        "   0     8   1        4\n",
        "   0     9   1        0\n",
        "\n",
        "10 rows\n",
        "Sample:\n",
        "\n",
        "#<Frame shape='10,3'/>\n",
        "zero range one\n",
        "   0     0   1\n",
        "   0     1   1\n",
        "   0     2   1\n",
        "   0     3   1\n",
        "   0     4   1\n",
        "   0     5   1\n",
        "   0     6   1\n",
        "   0     7   1\n",
        "   0     8   1\n",
        "   0     9   1\n",
        "\n",
        "10 rows\n"
       ]
      },
      {
       "output_type": "pyout",
       "prompt_number": 12,
       "text": [
        "<util.buckysoap.element.Element at 0x3bf18d0>"
       ]
      }
     ],
     "prompt_number": 12
    },
    {
     "cell_type": "markdown",
     "metadata": {},
     "source": []
    },
    {
     "cell_type": "code",
     "collapsed": false,
     "input": [
      "groups = (\n",
      "    bs.Element(name='Groups')\n",
      "    (group_id = bs.arange(6))\n",
      "    (name = lambda x: ['group_%d' % y for y in x.group_id[::-1]]))\n",
      "groups.display()\n",
      "e4.display()"
     ],
     "language": "python",
     "metadata": {},
     "outputs": [
      {
       "output_type": "stream",
       "stream": "stdout",
       "text": [
        "Groups:\n",
        "\n",
        "#<Frame shape='6,2'/>\n",
        "group_id name     \n",
        "       0 'group_5'\n",
        "       1 'group_4'\n",
        "       2 'group_3'\n",
        "       3 'group_2'\n",
        "       4 'group_1'\n",
        "       5 'group_0'\n",
        "\n",
        "6 rows\n",
        "Sample[0]\n",
        "    group_id=0\n",
        "    range=[0, 3, 6, 9]\n",
        "    range_sum=18\n",
        "    zero=[0, 0, 0, 0]\n",
        "    zero_sum=0\n",
        "    one=[1, 1, 1, 1]\n",
        "    one_sum=4\n",
        "Sample[1]\n",
        "    group_id=2\n",
        "    range=[1, 4, 7]\n",
        "    range_sum=12\n",
        "    zero=[0, 0, 0]\n",
        "    zero_sum=0\n",
        "    one=[1, 1, 1]\n",
        "    one_sum=3\n",
        "Sample[2]\n",
        "    group_id=4\n",
        "    range=[2, 5, 8]\n",
        "    range_sum=15\n",
        "    zero=[0, 0, 0]\n",
        "    zero_sum=0\n",
        "    one=[1, 1, 1]\n",
        "    one_sum=3\n"
       ]
      },
      {
       "output_type": "pyout",
       "prompt_number": 13,
       "text": [
        "<util.buckysoap.element.Element at 0x3e1f110>"
       ]
      }
     ],
     "prompt_number": 13
    },
    {
     "cell_type": "markdown",
     "metadata": {},
     "source": []
    },
    {
     "cell_type": "code",
     "collapsed": false,
     "input": [
      "join = e4.inner(groups, group_id='group_id')\n",
      "join.display()"
     ],
     "language": "python",
     "metadata": {},
     "outputs": [
      {
       "output_type": "stream",
       "stream": "stdout",
       "text": [
        "Sample[0]\n",
        "    group_id=0\n",
        "    range=[0, 3, 6, 9]\n",
        "    range_sum=18\n",
        "    zero=[0, 0, 0, 0]\n",
        "    zero_sum=0\n",
        "    one=[1, 1, 1, 1]\n",
        "    one_sum=4\n",
        "    Groups\n",
        "        name=group_5\n",
        "Sample[1]\n",
        "    group_id=2\n",
        "    range=[1, 4, 7]\n",
        "    range_sum=12\n",
        "    zero=[0, 0, 0]\n",
        "    zero_sum=0\n",
        "    one=[1, 1, 1]\n",
        "    one_sum=3\n",
        "    Groups\n",
        "        name=group_3\n",
        "Sample[2]\n",
        "    group_id=4\n",
        "    range=[2, 5, 8]\n",
        "    range_sum=15\n",
        "    zero=[0, 0, 0]\n",
        "    zero_sum=0\n",
        "    one=[1, 1, 1]\n",
        "    one_sum=3\n",
        "    Groups\n",
        "        name=group_1\n"
       ]
      },
      {
       "output_type": "pyout",
       "prompt_number": 14,
       "text": [
        "<util.buckysoap.element.Element at 0x3e1f510>"
       ]
      }
     ],
     "prompt_number": 14
    },
    {
     "cell_type": "markdown",
     "metadata": {},
     "source": []
    },
    {
     "cell_type": "code",
     "collapsed": false,
     "input": [
      "join = join.sort_by('Groups.name').display()"
     ],
     "language": "python",
     "metadata": {},
     "outputs": [
      {
       "output_type": "stream",
       "stream": "stdout",
       "text": [
        "Sample[0]\n",
        "    group_id=4\n",
        "    range=[2, 5, 8]\n",
        "    range_sum=15\n",
        "    zero=[0, 0, 0]\n",
        "    zero_sum=0\n",
        "    one=[1, 1, 1]\n",
        "    one_sum=3\n",
        "    Groups\n",
        "        name=group_1\n",
        "Sample[1]\n",
        "    group_id=2\n",
        "    range=[1, 4, 7]\n",
        "    range_sum=12\n",
        "    zero=[0, 0, 0]\n",
        "    zero_sum=0\n",
        "    one=[1, 1, 1]\n",
        "    one_sum=3\n",
        "    Groups\n",
        "        name=group_3\n",
        "Sample[2]\n",
        "    group_id=0\n",
        "    range=[0, 3, 6, 9]\n",
        "    range_sum=18\n",
        "    zero=[0, 0, 0, 0]\n",
        "    zero_sum=0\n",
        "    one=[1, 1, 1, 1]\n",
        "    one_sum=4\n",
        "    Groups\n",
        "        name=group_5\n"
       ]
      }
     ],
     "prompt_number": 15
    },
    {
     "cell_type": "code",
     "collapsed": false,
     "input": [
      "join.vstack(join).display()"
     ],
     "language": "python",
     "metadata": {},
     "outputs": [
      {
       "output_type": "stream",
       "stream": "stdout",
       "text": [
        "element_65141200[0]\n",
        "    group_id=4\n",
        "    range=[2, 5, 8]\n",
        "    range_sum=15\n",
        "    zero=[0, 0, 0]\n",
        "    zero_sum=0\n",
        "    one=[1, 1, 1]\n",
        "    one_sum=3\n",
        "    Groups\n",
        "        name=group_1\n",
        "element_65141200[1]\n",
        "    group_id=2\n",
        "    range=[1, 4, 7]\n",
        "    range_sum=12\n",
        "    zero=[0, 0, 0]\n",
        "    zero_sum=0\n",
        "    one=[1, 1, 1]\n",
        "    one_sum=3\n",
        "    Groups\n",
        "        name=group_3\n",
        "element_65141200[2]\n",
        "    group_id=0\n",
        "    range=[0, 3, 6, 9]\n",
        "    range_sum=18\n",
        "    zero=[0, 0, 0, 0]\n",
        "    zero_sum=0\n",
        "    one=[1, 1, 1, 1]\n",
        "    one_sum=4\n",
        "    Groups\n",
        "        name=group_5\n",
        "element_65141200[3]\n",
        "    group_id=4\n",
        "    range=[2, 5, 8]\n",
        "    range_sum=15\n",
        "    zero=[0, 0, 0]\n",
        "    zero_sum=0\n",
        "    one=[1, 1, 1]\n",
        "    one_sum=3\n",
        "    Groups\n",
        "        name=group_1\n",
        "element_65141200[4]\n",
        "    group_id=2\n",
        "    range=[1, 4, 7]\n",
        "    range_sum=12\n",
        "    zero=[0, 0, 0]\n",
        "    zero_sum=0\n",
        "    one=[1, 1, 1]\n",
        "    one_sum=3\n",
        "    Groups\n",
        "        name=group_3\n",
        "element_65141200[5]\n",
        "    group_id=0\n",
        "    range=[0, 3, 6, 9]\n",
        "    range_sum=18\n",
        "    zero=[0, 0, 0, 0]\n",
        "    zero_sum=0\n",
        "    one=[1, 1, 1, 1]\n",
        "    one_sum=4\n",
        "    Groups\n",
        "        name=group_5\n"
       ]
      },
      {
       "output_type": "pyout",
       "prompt_number": 16,
       "text": [
        "<util.buckysoap.element.Element at 0x3e1f9d0>"
       ]
      }
     ],
     "prompt_number": 16
    },
    {
     "cell_type": "markdown",
     "metadata": {},
     "source": []
    },
    {
     "cell_type": "code",
     "collapsed": false,
     "input": [
      "print join.toxml()"
     ],
     "language": "python",
     "metadata": {},
     "outputs": [
      {
       "output_type": "stream",
       "stream": "stdout",
       "text": [
        "<?xml version=\"1.0\" ?>\n",
        "<root>\n",
        "    <Sample group_id=\"4\" one=\"1 1 1\" one_sum=\"3\" range=\"2 5 8\" range_sum=\"15\" zero=\"0 0 0\" zero_sum=\"0\">\n",
        "        <Groups name=\"group_1\"/>\n",
        "    </Sample>\n",
        "    <Sample group_id=\"2\" one=\"1 1 1\" one_sum=\"3\" range=\"1 4 7\" range_sum=\"12\" zero=\"0 0 0\" zero_sum=\"0\">\n",
        "        <Groups name=\"group_3\"/>\n",
        "    </Sample>\n",
        "    <Sample group_id=\"0\" one=\"1 1 1 1\" one_sum=\"4\" range=\"0 3 6 9\" range_sum=\"18\" zero=\"0 0 0 0\" zero_sum=\"0\">\n",
        "        <Groups name=\"group_5\"/>\n",
        "    </Sample>\n",
        "</root>\n",
        "\n"
       ]
      }
     ],
     "prompt_number": 17
    },
    {
     "cell_type": "markdown",
     "metadata": {},
     "source": []
    },
    {
     "cell_type": "code",
     "collapsed": false,
     "input": [
      "print join.toxml(use_attributes=False)"
     ],
     "language": "python",
     "metadata": {},
     "outputs": [
      {
       "output_type": "stream",
       "stream": "stdout",
       "text": [
        "<?xml version=\"1.0\" ?>\n",
        "<root>\n",
        "    <Sample>\n",
        "        <group_id>4</group_id>\n",
        "        <range>2 5 8</range>\n",
        "        <range_sum>15</range_sum>\n",
        "        <zero>0 0 0</zero>\n",
        "        <zero_sum>0</zero_sum>\n",
        "        <one>1 1 1</one>\n",
        "        <one_sum>3</one_sum>\n",
        "        <Groups>\n",
        "            <name>group_1</name>\n",
        "        </Groups>\n",
        "    </Sample>\n",
        "    <Sample>\n",
        "        <group_id>2</group_id>\n",
        "        <range>1 4 7</range>\n",
        "        <range_sum>12</range_sum>\n",
        "        <zero>0 0 0</zero>\n",
        "        <zero_sum>0</zero_sum>\n",
        "        <one>1 1 1</one>\n",
        "        <one_sum>3</one_sum>\n",
        "        <Groups>\n",
        "            <name>group_3</name>\n",
        "        </Groups>\n",
        "    </Sample>\n",
        "    <Sample>\n",
        "        <group_id>0</group_id>\n",
        "        <range>0 3 6 9</range>\n",
        "        <range_sum>18</range_sum>\n",
        "        <zero>0 0 0 0</zero>\n",
        "        <zero_sum>0</zero_sum>\n",
        "        <one>1 1 1 1</one>\n",
        "        <one_sum>4</one_sum>\n",
        "        <Groups>\n",
        "            <name>group_5</name>\n",
        "        </Groups>\n",
        "    </Sample>\n",
        "</root>\n",
        "\n"
       ]
      }
     ],
     "prompt_number": 18
    },
    {
     "cell_type": "markdown",
     "metadata": {},
     "source": []
    },
    {
     "cell_type": "code",
     "collapsed": false,
     "input": [
      "print join.tojson()"
     ],
     "language": "python",
     "metadata": {},
     "outputs": [
      {
       "output_type": "stream",
       "stream": "stdout",
       "text": [
        "{\n",
        "    \"Sample\": [\n",
        "        {\n",
        "            \"group_id\": \"4\",\n",
        "            \"range\": [\n",
        "                2,\n",
        "                5,\n",
        "                8\n",
        "            ],\n",
        "            \"range_sum\": \"15\",\n",
        "            \"zero\": [\n",
        "                0,\n",
        "                0,\n",
        "                0\n",
        "            ],\n",
        "            \"zero_sum\": \"0\",\n",
        "            \"one\": [\n",
        "                1,\n",
        "                1,\n",
        "                1\n",
        "            ],\n",
        "            \"one_sum\": \"3\",\n",
        "            \"Groups\": {\n",
        "                \"name\": \"group_1\"\n",
        "            }\n",
        "        },\n",
        "        {\n",
        "            \"group_id\": \"2\",\n",
        "            \"range\": [\n",
        "                1,\n",
        "                4,\n",
        "                7\n",
        "            ],\n",
        "            \"range_sum\": \"12\",\n",
        "            \"zero\": [\n",
        "                0,\n",
        "                0,\n",
        "                0\n",
        "            ],\n",
        "            \"zero_sum\": \"0\",\n",
        "            \"one\": [\n",
        "                1,\n",
        "                1,\n",
        "                1\n",
        "            ],\n",
        "            \"one_sum\": \"3\",\n",
        "            \"Groups\": {\n",
        "                \"name\": \"group_3\"\n",
        "            }\n",
        "        },\n",
        "        {\n",
        "            \"group_id\": \"0\",\n",
        "            \"range\": [\n",
        "                0,\n",
        "                3,\n",
        "                6,\n",
        "                9\n",
        "            ],\n",
        "            \"range_sum\": \"18\",\n",
        "            \"zero\": [\n",
        "                0,\n",
        "                0,\n",
        "                0,\n",
        "                0\n",
        "            ],\n",
        "            \"zero_sum\": \"0\",\n",
        "            \"one\": [\n",
        "                1,\n",
        "                1,\n",
        "                1,\n",
        "                1\n",
        "            ],\n",
        "            \"one_sum\": \"4\",\n",
        "            \"Groups\": {\n",
        "                \"name\": \"group_5\"\n",
        "            }\n",
        "        }\n",
        "    ]\n",
        "}\n"
       ]
      }
     ],
     "prompt_number": 19
    },
    {
     "cell_type": "code",
     "collapsed": false,
     "input": [
      "def factory():\n",
      "    print \"Running Factory\"\n",
      "    return bs.Element(name='Sample')(\n",
      "        range = bs.arange(10),\n",
      "        zero = bs.zeros(10, int),\n",
      "        one = bs.ones(10, int))\n",
      "bs.Element(\n",
      "    name='sample',\n",
      "    cnames='range,zero,one',\n",
      "    cachedir='cache/sample',\n",
      "    factory=factory\n",
      ").display()"
     ],
     "language": "python",
     "metadata": {},
     "outputs": [
      {
       "output_type": "stream",
       "stream": "stdout",
       "text": [
        "   range  zero  one\n",
        "0      0     0    1\n",
        "1      1     0    1\n",
        "2      2     0    1\n",
        "3      3     0    1\n",
        "4      4     0    1\n",
        "5      5     0    1\n",
        "6      6     0    1\n",
        "7      7     0    1\n",
        "8      8     0    1\n",
        "9      9     0    1\n"
       ]
      },
      {
       "output_type": "pyout",
       "prompt_number": 4,
       "text": [
        "<buckysoap.element.Element at 0x43d1650>"
       ]
      }
     ],
     "prompt_number": 4
    }
   ],
   "metadata": {}
  }
 ]
}